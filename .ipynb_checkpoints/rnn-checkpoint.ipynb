{
 "cells": [
  {
   "cell_type": "code",
   "execution_count": 1,
   "id": "991c40f4",
   "metadata": {},
   "outputs": [],
   "source": [
    "import warnings\n",
    "from IPython.core.interactiveshell import InteractiveShell\n",
    "\n",
    "InteractiveShell.ast_node_interactivity = 'all'\n",
    "\n",
    "warnings.filterwarnings('ignore', category = RuntimeWarning)\n",
    "\n",
    "RANDOM_STATE = 50\n",
    "EPOCHS = 150\n",
    "BATCH_SIZE = 2048\n",
    "TRAINING_LENGTH = 50\n",
    "TRAIN_FRACTION = 0.7\n",
    "LSTM_CELLS = 64\n",
    "VERBOSE = 0\n",
    "SAVE_MODEL = True"
   ]
  },
  {
   "cell_type": "code",
   "execution_count": 2,
   "id": "0332aa16",
   "metadata": {},
   "outputs": [
    {
     "name": "stdout",
     "output_type": "stream",
     "text": [
      "[name: \"/device:CPU:0\"\n",
      "device_type: \"CPU\"\n",
      "memory_limit: 268435456\n",
      "locality {\n",
      "}\n",
      "incarnation: 11677381950414855908\n",
      "xla_global_id: -1\n",
      ", name: \"/device:GPU:0\"\n",
      "device_type: \"GPU\"\n",
      "locality {\n",
      "  bus_id: 1\n",
      "}\n",
      "incarnation: 17537348918120873604\n",
      "physical_device_desc: \"device: 0, name: METAL, pci bus id: <undefined>\"\n",
      "xla_global_id: -1\n",
      "]\n"
     ]
    },
    {
     "name": "stderr",
     "output_type": "stream",
     "text": [
      "2024-01-21 11:57:52.235610: I metal_plugin/src/device/metal_device.cc:1154] Metal device set to: Apple M2 Pro\n",
      "2024-01-21 11:57:52.235630: I metal_plugin/src/device/metal_device.cc:296] systemMemory: 32.00 GB\n",
      "2024-01-21 11:57:52.235634: I metal_plugin/src/device/metal_device.cc:313] maxCacheSize: 10.67 GB\n",
      "2024-01-21 11:57:52.235664: I tensorflow/core/common_runtime/pluggable_device/pluggable_device_factory.cc:306] Could not identify NUMA node of platform GPU ID 0, defaulting to 0. Your kernel may not have been built with NUMA support.\n",
      "2024-01-21 11:57:52.235676: I tensorflow/core/common_runtime/pluggable_device/pluggable_device_factory.cc:272] Created TensorFlow device (/device:GPU:0 with 0 MB memory) -> physical PluggableDevice (device: 0, name: METAL, pci bus id: <undefined>)\n"
     ]
    }
   ],
   "source": [
    "from tensorflow.python.client import device_lib\n",
    "print(device_lib.list_local_devices())"
   ]
  },
  {
   "cell_type": "markdown",
   "id": "14370deb",
   "metadata": {},
   "source": [
    "## read in data "
   ]
  },
  {
   "cell_type": "code",
   "execution_count": 3,
   "id": "b4bf1825",
   "metadata": {},
   "outputs": [],
   "source": [
    "import pandas as pd\n",
    "import numpy as np"
   ]
  },
  {
   "cell_type": "code",
   "execution_count": 4,
   "id": "036e4893",
   "metadata": {},
   "outputs": [],
   "source": [
    "data = pd.read_csv('/Users/jiashu/Downloads/neural_network_patent_query.csv', parse_dates = ['patent_date'])"
   ]
  },
  {
   "cell_type": "code",
   "execution_count": 5,
   "id": "45bed8c6",
   "metadata": {},
   "outputs": [
    {
     "data": {
      "text/html": [
       "<div>\n",
       "<style scoped>\n",
       "    .dataframe tbody tr th:only-of-type {\n",
       "        vertical-align: middle;\n",
       "    }\n",
       "\n",
       "    .dataframe tbody tr th {\n",
       "        vertical-align: top;\n",
       "    }\n",
       "\n",
       "    .dataframe thead th {\n",
       "        text-align: right;\n",
       "    }\n",
       "</style>\n",
       "<table border=\"1\" class=\"dataframe\">\n",
       "  <thead>\n",
       "    <tr style=\"text-align: right;\">\n",
       "      <th></th>\n",
       "      <th>patent_abstract</th>\n",
       "      <th>patent_date</th>\n",
       "      <th>patent_number</th>\n",
       "      <th>patent_title</th>\n",
       "    </tr>\n",
       "  </thead>\n",
       "  <tbody>\n",
       "    <tr>\n",
       "      <th>0</th>\n",
       "      <td>\" A \"\"Barometer\"\" Neuron enhances stability in...</td>\n",
       "      <td>1996-07-09</td>\n",
       "      <td>5535303</td>\n",
       "      <td>\"\"\"Barometer\"\" neuron for a neural network\"</td>\n",
       "    </tr>\n",
       "    <tr>\n",
       "      <th>1</th>\n",
       "      <td>\" This invention is a novel high-speed neural ...</td>\n",
       "      <td>1993-10-19</td>\n",
       "      <td>5255349</td>\n",
       "      <td>\"Electronic neural network for solving \"\"trave...</td>\n",
       "    </tr>\n",
       "    <tr>\n",
       "      <th>2</th>\n",
       "      <td>An optical information processor for use as a ...</td>\n",
       "      <td>1995-01-17</td>\n",
       "      <td>5383042</td>\n",
       "      <td>3 layer liquid crystal neural network with out...</td>\n",
       "    </tr>\n",
       "    <tr>\n",
       "      <th>3</th>\n",
       "      <td>A method and system for intelligent control of...</td>\n",
       "      <td>2001-01-02</td>\n",
       "      <td>6169981</td>\n",
       "      <td>3-brain architecture for an intelligent decisi...</td>\n",
       "    </tr>\n",
       "    <tr>\n",
       "      <th>4</th>\n",
       "      <td>A method and system for intelligent control of...</td>\n",
       "      <td>2003-06-17</td>\n",
       "      <td>6581048</td>\n",
       "      <td>3-brain architecture for an intelligent decisi...</td>\n",
       "    </tr>\n",
       "  </tbody>\n",
       "</table>\n",
       "</div>"
      ],
      "text/plain": [
       "                                     patent_abstract patent_date  \\\n",
       "0  \" A \"\"Barometer\"\" Neuron enhances stability in...  1996-07-09   \n",
       "1  \" This invention is a novel high-speed neural ...  1993-10-19   \n",
       "2  An optical information processor for use as a ...  1995-01-17   \n",
       "3  A method and system for intelligent control of...  2001-01-02   \n",
       "4  A method and system for intelligent control of...  2003-06-17   \n",
       "\n",
       "  patent_number                                       patent_title  \n",
       "0       5535303        \"\"\"Barometer\"\" neuron for a neural network\"  \n",
       "1       5255349  \"Electronic neural network for solving \"\"trave...  \n",
       "2       5383042  3 layer liquid crystal neural network with out...  \n",
       "3       6169981  3-brain architecture for an intelligent decisi...  \n",
       "4       6581048  3-brain architecture for an intelligent decisi...  "
      ]
     },
     "execution_count": 5,
     "metadata": {},
     "output_type": "execute_result"
    }
   ],
   "source": [
    "data.head()"
   ]
  },
  {
   "cell_type": "code",
   "execution_count": 6,
   "id": "351e0129",
   "metadata": {},
   "outputs": [],
   "source": [
    "original_abstracts = list(data['patent_abstract'])"
   ]
  },
  {
   "cell_type": "code",
   "execution_count": 7,
   "id": "421d81a1",
   "metadata": {},
   "outputs": [
    {
     "data": {
      "text/plain": [
       "3522"
      ]
     },
     "execution_count": 7,
     "metadata": {},
     "output_type": "execute_result"
    }
   ],
   "source": [
    "len(original_abstracts)"
   ]
  },
  {
   "cell_type": "markdown",
   "id": "26ef63e7",
   "metadata": {},
   "source": [
    "## data exploration"
   ]
  },
  {
   "cell_type": "code",
   "execution_count": 8,
   "id": "ab9a5f68",
   "metadata": {},
   "outputs": [
    {
     "data": {
      "text/plain": [
       "'The present invention provides an apparatus and a method for classifying and recognizing image patterns using a second-order neural network, thereby achieving high-rate parallel processing while lowering the complexity. The second-order neural network, which is made of adders and multipliers, corrects positional translations generated in a complex-log mapping unit to output the same result for the same object irrespective of the scale and/or rotation of the object. The present invention enables high-rate image pattern classification and recognition based on parallel processing, which is the advantage obtained in neural network models, because consistent neural networks and consistent network structure computation models are applied to all steps from the image input step to the pattern classifying and recognizing step.'"
      ]
     },
     "execution_count": 8,
     "metadata": {},
     "output_type": "execute_result"
    }
   ],
   "source": [
    "data['patent_abstract'][100]"
   ]
  },
  {
   "cell_type": "code",
   "execution_count": 9,
   "id": "bc4b71bf",
   "metadata": {},
   "outputs": [],
   "source": [
    "import matplotlib.pyplot as plt\n",
    "%matplotlib inline"
   ]
  },
  {
   "cell_type": "code",
   "execution_count": 10,
   "id": "7823a966",
   "metadata": {},
   "outputs": [],
   "source": [
    "plt.style.use('fivethirtyeight')"
   ]
  },
  {
   "cell_type": "code",
   "execution_count": 11,
   "id": "7afa63ae",
   "metadata": {},
   "outputs": [],
   "source": [
    "data['year_month'] = pd.to_datetime([f\"{y}-{m}-1\" for y, m in zip(\n",
    "        data['patent_date'].dt.year, data['patent_date'].dt.month)])"
   ]
  },
  {
   "cell_type": "code",
   "execution_count": 12,
   "id": "f802fab8",
   "metadata": {},
   "outputs": [],
   "source": [
    "monthly = data.groupby(['year_month'])['patent_number'].count().reset_index()"
   ]
  },
  {
   "cell_type": "code",
   "execution_count": 13,
   "id": "4344c0f3",
   "metadata": {},
   "outputs": [
    {
     "data": {
      "text/html": [
       "<div>\n",
       "<style scoped>\n",
       "    .dataframe tbody tr th:only-of-type {\n",
       "        vertical-align: middle;\n",
       "    }\n",
       "\n",
       "    .dataframe tbody tr th {\n",
       "        vertical-align: top;\n",
       "    }\n",
       "\n",
       "    .dataframe thead th {\n",
       "        text-align: right;\n",
       "    }\n",
       "</style>\n",
       "<table border=\"1\" class=\"dataframe\">\n",
       "  <thead>\n",
       "    <tr style=\"text-align: right;\">\n",
       "      <th></th>\n",
       "      <th>year_month</th>\n",
       "      <th>patent_number</th>\n",
       "    </tr>\n",
       "  </thead>\n",
       "  <tbody>\n",
       "    <tr>\n",
       "      <th>0</th>\n",
       "      <td>1978-06-01</td>\n",
       "      <td>1</td>\n",
       "    </tr>\n",
       "    <tr>\n",
       "      <th>1</th>\n",
       "      <td>1985-08-01</td>\n",
       "      <td>1</td>\n",
       "    </tr>\n",
       "    <tr>\n",
       "      <th>2</th>\n",
       "      <td>1986-06-01</td>\n",
       "      <td>1</td>\n",
       "    </tr>\n",
       "    <tr>\n",
       "      <th>3</th>\n",
       "      <td>1987-10-01</td>\n",
       "      <td>2</td>\n",
       "    </tr>\n",
       "    <tr>\n",
       "      <th>4</th>\n",
       "      <td>1988-04-01</td>\n",
       "      <td>1</td>\n",
       "    </tr>\n",
       "    <tr>\n",
       "      <th>...</th>\n",
       "      <td>...</td>\n",
       "      <td>...</td>\n",
       "    </tr>\n",
       "    <tr>\n",
       "      <th>349</th>\n",
       "      <td>2018-01-01</td>\n",
       "      <td>29</td>\n",
       "    </tr>\n",
       "    <tr>\n",
       "      <th>350</th>\n",
       "      <td>2018-02-01</td>\n",
       "      <td>20</td>\n",
       "    </tr>\n",
       "    <tr>\n",
       "      <th>351</th>\n",
       "      <td>2018-03-01</td>\n",
       "      <td>13</td>\n",
       "    </tr>\n",
       "    <tr>\n",
       "      <th>352</th>\n",
       "      <td>2018-04-01</td>\n",
       "      <td>30</td>\n",
       "    </tr>\n",
       "    <tr>\n",
       "      <th>353</th>\n",
       "      <td>2018-05-01</td>\n",
       "      <td>38</td>\n",
       "    </tr>\n",
       "  </tbody>\n",
       "</table>\n",
       "<p>354 rows × 2 columns</p>\n",
       "</div>"
      ],
      "text/plain": [
       "    year_month  patent_number\n",
       "0   1978-06-01              1\n",
       "1   1985-08-01              1\n",
       "2   1986-06-01              1\n",
       "3   1987-10-01              2\n",
       "4   1988-04-01              1\n",
       "..         ...            ...\n",
       "349 2018-01-01             29\n",
       "350 2018-02-01             20\n",
       "351 2018-03-01             13\n",
       "352 2018-04-01             30\n",
       "353 2018-05-01             38\n",
       "\n",
       "[354 rows x 2 columns]"
      ]
     },
     "execution_count": 13,
     "metadata": {},
     "output_type": "execute_result"
    }
   ],
   "source": [
    "monthly"
   ]
  },
  {
   "cell_type": "code",
   "execution_count": 14,
   "id": "f4e1fc8b",
   "metadata": {},
   "outputs": [
    {
     "data": {
      "text/plain": [
       "<Axes: xlabel='year_month'>"
      ]
     },
     "execution_count": 14,
     "metadata": {},
     "output_type": "execute_result"
    },
    {
     "data": {
      "text/plain": [
       "Text(0, 0.5, 'Number of Patents')"
      ]
     },
     "execution_count": 14,
     "metadata": {},
     "output_type": "execute_result"
    },
    {
     "data": {
      "text/plain": [
       "Text(0.5, 0, 'Date')"
      ]
     },
     "execution_count": 14,
     "metadata": {},
     "output_type": "execute_result"
    },
    {
     "data": {
      "text/plain": [
       "Text(0.5, 1.0, 'Neural Network Patents Over Time')"
      ]
     },
     "execution_count": 14,
     "metadata": {},
     "output_type": "execute_result"
    },
    {
     "data": {
      "image/png": "[encoded data removed]",
      "text/plain": [
       "<Figure size 1600x800 with 1 Axes>"
      ]
     },
     "metadata": {},
     "output_type": "display_data"
    }
   ],
   "source": [
    "monthly.set_index('year_month')['patent_number'].plot(figsize = (16, 8))\n",
    "plt.ylabel('Number of Patents')\n",
    "plt.xlabel('Date')\n",
    "plt.title('Neural Network Patents Over Time')"
   ]
  },
  {
   "cell_type": "code",
   "execution_count": 15,
   "id": "8660496f",
   "metadata": {},
   "outputs": [
    {
     "data": {
      "text/plain": [
       "<Axes: xlabel='year_month'>"
      ]
     },
     "execution_count": 15,
     "metadata": {},
     "output_type": "execute_result"
    },
    {
     "data": {
      "text/plain": [
       "Text(0.5, 0, 'Year')"
      ]
     },
     "execution_count": 15,
     "metadata": {},
     "output_type": "execute_result"
    },
    {
     "data": {
      "text/plain": [
       "Text(0, 0.5, 'Number of Patents')"
      ]
     },
     "execution_count": 15,
     "metadata": {},
     "output_type": "execute_result"
    },
    {
     "data": {
      "text/plain": [
       "Text(0.5, 1.0, 'Neural Network Patents by Year')"
      ]
     },
     "execution_count": 15,
     "metadata": {},
     "output_type": "execute_result"
    },
    {
     "data": {
      "image/png": "[encoded data removed]",
      "text/plain": [
       "<Figure size 1200x600 with 1 Axes>"
      ]
     },
     "metadata": {},
     "output_type": "display_data"
    }
   ],
   "source": [
    "monthly.groupby(monthly['year_month'].dt.year)['patent_number'].sum().plot.bar(\n",
    "    color = 'red', edgecolor = 'k', figsize = (12, 6)\n",
    ")\n",
    "plt.xlabel('Year')\n",
    "plt.ylabel('Number of Patents')\n",
    "plt.title(\"Neural Network Patents by Year\")"
   ]
  },
  {
   "cell_type": "markdown",
   "id": "fb4c26d9",
   "metadata": {},
   "source": [
    "## data cleaning"
   ]
  },
  {
   "cell_type": "code",
   "execution_count": 16,
   "id": "a22164f1",
   "metadata": {},
   "outputs": [],
   "source": [
    "from keras.preprocessing.text import Tokenizer"
   ]
  },
  {
   "cell_type": "code",
   "execution_count": 17,
   "id": "ab99a88c",
   "metadata": {},
   "outputs": [],
   "source": [
    "example = 'This is a short sentence (1) with one reference to an image. This next sentence, \\\n",
    "while non-sensical, does not have an image and has two commas.'\n",
    "tokenizer = Tokenizer(filters='!\"#$%&()*+,-./:;<=>?@[\\\\]^_`{|}~\\t\\n')"
   ]
  },
  {
   "cell_type": "code",
   "execution_count": 18,
   "id": "0a47d971",
   "metadata": {},
   "outputs": [],
   "source": [
    "tokenizer.fit_on_texts([example])"
   ]
  },
  {
   "cell_type": "code",
   "execution_count": 19,
   "id": "ab91d66f",
   "metadata": {},
   "outputs": [],
   "source": [
    "s = tokenizer.texts_to_sequences([example])[0]"
   ]
  },
  {
   "cell_type": "code",
   "execution_count": 20,
   "id": "5591b330",
   "metadata": {},
   "outputs": [
    {
     "data": {
      "text/plain": [
       "'this is a short sentence 1 with one reference to an image this next sentence while non sensical does not have an image and has two commas'"
      ]
     },
     "execution_count": 20,
     "metadata": {},
     "output_type": "execute_result"
    }
   ],
   "source": [
    "' '.join(tokenizer.index_word[i] for i in s)"
   ]
  },
  {
   "cell_type": "code",
   "execution_count": 21,
   "id": "d0cc13f5",
   "metadata": {},
   "outputs": [
    {
     "name": "stdout",
     "output_type": "stream",
     "text": [
      "{'this': 1, 'sentence': 2, 'an': 3, 'image': 4, 'is': 5, 'a': 6, 'short': 7, '1': 8, 'with': 9, 'one': 10, 'reference': 11, 'to': 12, 'next': 13, 'while': 14, 'non': 15, 'sensical': 16, 'does': 17, 'not': 18, 'have': 19, 'and': 20, 'has': 21, 'two': 22, 'commas': 23}\n"
     ]
    }
   ],
   "source": [
    "print(tokenizer.word_index)"
   ]
  },
  {
   "cell_type": "code",
   "execution_count": 22,
   "id": "84cb9762",
   "metadata": {},
   "outputs": [
    {
     "data": {
      "text/plain": [
       "'this is a short sentence (1) with one reference to an image this next sentence while non sensical does not have an image and has two commas'"
      ]
     },
     "execution_count": 22,
     "metadata": {},
     "output_type": "execute_result"
    }
   ],
   "source": [
    "tokenizer = Tokenizer(filters='!\"#$%&*+,-./:;<=>?@[\\\\]^_`{|}~\\t\\n')\n",
    "tokenizer.fit_on_texts([example])\n",
    "s = tokenizer.texts_to_sequences([example])[0]\n",
    "' '.join(tokenizer.index_word[i] for i in s)"
   ]
  },
  {
   "cell_type": "code",
   "execution_count": 23,
   "id": "1c439add",
   "metadata": {},
   "outputs": [
    {
     "name": "stdout",
     "output_type": "stream",
     "text": [
      "{'this': 1, 'sentence': 2, 'an': 3, 'image': 4, 'is': 5, 'a': 6, 'short': 7, '(1)': 8, 'with': 9, 'one': 10, 'reference': 11, 'to': 12, 'next': 13, 'while': 14, 'non': 15, 'sensical': 16, 'does': 17, 'not': 18, 'have': 19, 'and': 20, 'has': 21, 'two': 22, 'commas': 23}\n"
     ]
    }
   ],
   "source": [
    "print(tokenizer.word_index)"
   ]
  },
  {
   "cell_type": "code",
   "execution_count": 24,
   "id": "20f998ea",
   "metadata": {},
   "outputs": [],
   "source": [
    "import re\n",
    "\n",
    "\n",
    "def format_patent(patent):\n",
    "    \n",
    "    # Add spaces around punctuation\n",
    "    patent = re.sub(r'(?<=[^\\s0-9])(?=[.,;?])', r' ', patent)\n",
    "\n",
    "    # Remove references to figures\n",
    "    patent = re.sub(r'\\((\\d+)\\)', r'', patent)\n",
    "\n",
    "    # Remove double spaces\n",
    "    patent = re.sub(r'\\s\\s', ' ', patent)\n",
    "    return patent"
   ]
  },
  {
   "cell_type": "code",
   "execution_count": 25,
   "id": "3d288881",
   "metadata": {},
   "outputs": [
    {
     "data": {
      "text/plain": [
       "'This is a short sentence with one reference to an image . This next sentence , while non-sensical , does not have an image and has two commas .'"
      ]
     },
     "execution_count": 25,
     "metadata": {},
     "output_type": "execute_result"
    }
   ],
   "source": [
    "f = format_patent(example)\n",
    "f"
   ]
  },
  {
   "cell_type": "code",
   "execution_count": 26,
   "id": "e50cfa2b",
   "metadata": {},
   "outputs": [
    {
     "data": {
      "text/plain": [
       "3522"
      ]
     },
     "execution_count": 26,
     "metadata": {},
     "output_type": "execute_result"
    }
   ],
   "source": [
    "formatted = []\n",
    "\n",
    "for a in original_abstracts:\n",
    "    formatted.append(format_patent(a))\n",
    "\n",
    "len(formatted)"
   ]
  },
  {
   "cell_type": "markdown",
   "id": "5e395bcd",
   "metadata": {},
   "source": [
    "## convert text into sequences"
   ]
  },
  {
   "cell_type": "code",
   "execution_count": 27,
   "id": "d20c3320",
   "metadata": {},
   "outputs": [],
   "source": [
    "def make_sequences(texts,\n",
    "                  training_length = 50,\n",
    "                  lower = True,\n",
    "                  filters = '!\"#$%&()*+,-./:;<=>?@[\\\\]^_`{|}~\\t\\n'):\n",
    "    \"\"\"Turn a set of texts into sequences of intergers\"\"\"\n",
    "    \n",
    "    # create the tokenizer object and train on texts\n",
    "    tokenizer = Tokenizer(lower = lower, filters = filters)\n",
    "    tokenizer.fit_on_texts(texts)\n",
    "    \n",
    "    # create look-up dictionary and reverse look-ups\n",
    "    word_idx = tokenizer.word_index\n",
    "    idx_word = tokenizer.index_word\n",
    "    num_words = len(word_idx) + 1\n",
    "    word_counts = tokenizer.word_counts\n",
    "    \n",
    "    print(f'there are {num_words} unique words.')\n",
    "    \n",
    "    # convert text to sequences of integers\n",
    "    sequences = tokenizer.texts_to_sequences(texts)\n",
    "    \n",
    "    # limit to sequences with more than training length tokens\n",
    "    seq_lengths = [len(x) for x in sequences]\n",
    "    over_idx = [\n",
    "        i for i, l in enumerate(seq_lengths) if l > (training_length + 20)\n",
    "    ]\n",
    "    \n",
    "    new_texts = []\n",
    "    new_sequences = []\n",
    "    \n",
    "    # only keep sequences  with more than training length tokens\n",
    "    for i in over_idx:\n",
    "        new_texts.append(texts[i])\n",
    "        new_sequences.append(sequences[i])\n",
    "    \n",
    "    training_seq = []\n",
    "    labels = []\n",
    "    \n",
    "    # iterate through the sequence of tokens\n",
    "    for seq in new_sequences:\n",
    "        \n",
    "        # create multiple training examples from each sequence\n",
    "        for i in range(training_length, len(seq)):\n",
    "            # extract te feature and label\n",
    "            extract = seq[i - training_length: i+1]\n",
    "            \n",
    "            training_seq.append(extract[:-1])\n",
    "            labels.append(extract[-1])\n",
    "            \n",
    "    print(f\"there are {len(training_seq)} training sequences.\")\n",
    "    \n",
    "    return word_idx, idx_word, num_words, word_counts, new_texts, new_sequences, training_seq, labels    "
   ]
  },
  {
   "cell_type": "code",
   "execution_count": 28,
   "id": "a259d9cd",
   "metadata": {},
   "outputs": [
    {
     "name": "stdout",
     "output_type": "stream",
     "text": [
      "there are 13677 unique words.\n",
      "there are 320881 training sequences.\n"
     ]
    }
   ],
   "source": [
    "TRAINING_LENGTH = 50\n",
    "filters = '!\"#$%&()*+/:<=>@[\\\\]^_`{|}~\\t\\n'\n",
    "word_idx, idx_word, num_words, word_counts, abstracts, sequences, features, labels = make_sequences(\n",
    "    formatted, TRAINING_LENGTH, lower = True, filters = filters\n",
    ")"
   ]
  },
  {
   "cell_type": "code",
   "execution_count": 29,
   "id": "63fd4b30",
   "metadata": {},
   "outputs": [
    {
     "data": {
      "text/plain": [
       "[3086, 1978, 11, 2, 9, 8, 19, 27, 5, 117]"
      ]
     },
     "execution_count": 29,
     "metadata": {},
     "output_type": "execute_result"
    }
   ],
   "source": [
    "n = 3\n",
    "features[n][:10]"
   ]
  },
  {
   "cell_type": "code",
   "execution_count": 30,
   "id": "c080a78f",
   "metadata": {},
   "outputs": [],
   "source": [
    "def find_answer(index):\n",
    "    \"\"\"find label corresponding to features for index in training data\"\"\"\n",
    "    \n",
    "    feats = ' '.join(idx_word[i] for i in features[index])\n",
    "    answer = idx_word[labels[index]]\n",
    "    \n",
    "    print('Features:', feats)\n",
    "    print(\"\\nLabel:\", answer)"
   ]
  },
  {
   "cell_type": "code",
   "execution_count": 31,
   "id": "4b33fb32",
   "metadata": {},
   "outputs": [
    {
     "name": "stdout",
     "output_type": "stream",
     "text": [
      "Features: enhances stability in a neural network system that , when used as a track-while-scan system , assigns sensor plots to predicted track positions in a plot track association situation . the barometer neuron functions as a bench-mark or reference system node that equates a superimposed plot and track to a\n",
      "\n",
      "Label: zero\n"
     ]
    }
   ],
   "source": [
    "find_answer(n)"
   ]
  },
  {
   "cell_type": "code",
   "execution_count": 32,
   "id": "96d083bc",
   "metadata": {},
   "outputs": [
    {
     "data": {
      "text/plain": [
       "'\" A \"\"Barometer\"\" Neuron enhances stability in a Neural Network System that, when used as a track-while-scan system, assigns sensor plots to predicted track positions in a plot/track association situation. The \"\"Barometer\"\" Neuron functions as a bench-mark or reference system node that equates a superimposed plot and track to a zero distance as a \"\"perfect\"\" pairing of plot and track which has a measured/desired level of inhibition. The \"\"Barometer\"\" Neuron responds to the System inputs, compares these inputs against the level of inhibition of the \"\"perfect\"\" pair, and generates a supplied excitation or inhibition output signal to the System which adjusts the System to a desired value at or near 1.0; this the reference level of inhibition of the \"\"perfect\"\" pair. \"'"
      ]
     },
     "execution_count": 32,
     "metadata": {},
     "output_type": "execute_result"
    }
   ],
   "source": [
    "original_abstracts[0]"
   ]
  },
  {
   "cell_type": "code",
   "execution_count": 33,
   "id": "3a8cf44a",
   "metadata": {},
   "outputs": [
    {
     "data": {
      "text/plain": [
       "[('the', 36597),\n",
       " ('a', 24883),\n",
       " ('of', 20193),\n",
       " ('.', 16604),\n",
       " (',', 15417),\n",
       " ('and', 12947),\n",
       " ('to', 12073),\n",
       " ('network', 7733),\n",
       " ('neural', 7381),\n",
       " ('is', 7213),\n",
       " ('in', 6992),\n",
       " ('for', 6907),\n",
       " ('an', 6061),\n",
       " ('data', 4010),\n",
       " ('by', 3607)]"
      ]
     },
     "execution_count": 33,
     "metadata": {},
     "output_type": "execute_result"
    }
   ],
   "source": [
    "sorted(word_counts.items(), key = lambda x: x[1], reverse = True)[:15]"
   ]
  },
  {
   "cell_type": "markdown",
   "id": "e26fe318",
   "metadata": {},
   "source": [
    "## training data"
   ]
  },
  {
   "cell_type": "code",
   "execution_count": 34,
   "id": "798eaa05",
   "metadata": {},
   "outputs": [],
   "source": [
    "from sklearn.utils import shuffle\n",
    "import gc"
   ]
  },
  {
   "cell_type": "code",
   "execution_count": 35,
   "id": "a020fe51",
   "metadata": {},
   "outputs": [],
   "source": [
    "def create_train_valid(features,\n",
    "                      labels,\n",
    "                      num_words,\n",
    "                      train_fraction = TRAIN_FRACTION):\n",
    "    \"\"\"create training and validation features and labels\"\"\"\n",
    "    \n",
    "    # randomly shuffle features and labels\n",
    "    features, labels = shuffle(features, labels, random_state = RANDOM_STATE)\n",
    "    \n",
    "    # decide on number of samples for training\n",
    "    train_end = int(train_fraction * len(labels))\n",
    "    \n",
    "    train_features = np.array(features[:train_end])\n",
    "    valid_features = np.array(features[train_end:])\n",
    "    \n",
    "    train_labels = labels[:train_end]\n",
    "    valid_labels = labels[train_end:]\n",
    "    \n",
    "    # convert to arrays\n",
    "    X_train, X_valid = np.array(train_features), np.array(valid_features)\n",
    "    \n",
    "    # using int8 for memory savings\n",
    "    y_train = np.zeros((len(train_labels), num_words), dtype = np.int8)\n",
    "    y_valid = np.zeros((len(valid_labels), num_words), dtype = np.int8)\n",
    "    \n",
    "    # one hot encoding of labels\n",
    "    for example_index, word_index in enumerate(train_labels):\n",
    "        y_train[example_index, word_index] = 1\n",
    "    \n",
    "    for example_index, word_index in enumerate(valid_labels):\n",
    "        y_valid[example_index, word_index] = 1\n",
    "    \n",
    "    # memory management\n",
    "    gc.enable()\n",
    "    del features, labels, train_features, valid_features, train_labels, valid_labels\n",
    "    gc.collect()\n",
    "    \n",
    "    return X_train, X_valid, y_train, y_valid"
   ]
  },
  {
   "cell_type": "code",
   "execution_count": 36,
   "id": "d975b22a",
   "metadata": {},
   "outputs": [
    {
     "data": {
      "text/plain": [
       "(224616, 50)"
      ]
     },
     "execution_count": 36,
     "metadata": {},
     "output_type": "execute_result"
    },
    {
     "data": {
      "text/plain": [
       "(224616, 13677)"
      ]
     },
     "execution_count": 36,
     "metadata": {},
     "output_type": "execute_result"
    }
   ],
   "source": [
    "X_train, X_valid, y_train, y_valid = create_train_valid(\n",
    "    features, labels, num_words)\n",
    "\n",
    "X_train.shape\n",
    "y_train.shape"
   ]
  },
  {
   "cell_type": "code",
   "execution_count": 37,
   "id": "1463cc87",
   "metadata": {},
   "outputs": [
    {
     "data": {
      "text/plain": [
       "3.07207316"
      ]
     },
     "execution_count": 37,
     "metadata": {},
     "output_type": "execute_result"
    }
   ],
   "source": [
    "import sys\n",
    "\n",
    "sys.getsizeof(y_train)/ 1e9"
   ]
  },
  {
   "cell_type": "code",
   "execution_count": 38,
   "id": "15bb9f04",
   "metadata": {},
   "outputs": [],
   "source": [
    "def check_sizes(gb_min = 1):\n",
    "    for x in globals():\n",
    "        size = sys.getsizeof(eval(x)) / 1e9\n",
    "        if size > gb_min:\n",
    "            print(f\"object: {x:10}\\t Size: {size} GB.\")"
   ]
  },
  {
   "cell_type": "code",
   "execution_count": 39,
   "id": "8be9217c",
   "metadata": {},
   "outputs": [
    {
     "name": "stdout",
     "output_type": "stream",
     "text": [
      "object: y_train   \t Size: 3.07207316 GB.\n",
      "object: y_valid   \t Size: 1.316616533 GB.\n"
     ]
    }
   ],
   "source": [
    "check_sizes(gb_min = 1)"
   ]
  },
  {
   "cell_type": "markdown",
   "id": "61ce9bee",
   "metadata": {},
   "source": [
    "## pre_trained embeddings"
   ]
  },
  {
   "cell_type": "code",
   "execution_count": 40,
   "id": "4fd49aa1",
   "metadata": {},
   "outputs": [],
   "source": [
    "import os\n",
    "from keras.utils import get_file"
   ]
  },
  {
   "cell_type": "code",
   "execution_count": 41,
   "id": "276f20e9",
   "metadata": {},
   "outputs": [],
   "source": [
    "glove_vectors = '/Users/jiashu/Documents/data/glove.6B/glove.6B.100d.txt'"
   ]
  },
  {
   "cell_type": "code",
   "execution_count": 42,
   "id": "e44b4d30",
   "metadata": {},
   "outputs": [
    {
     "data": {
      "text/plain": [
       "(400000, 101)"
      ]
     },
     "execution_count": 42,
     "metadata": {},
     "output_type": "execute_result"
    }
   ],
   "source": [
    "glove = np.loadtxt(glove_vectors, dtype = 'str', comments = None)\n",
    "glove.shape"
   ]
  },
  {
   "cell_type": "code",
   "execution_count": 43,
   "id": "b3b64101",
   "metadata": {},
   "outputs": [
    {
     "data": {
      "text/plain": [
       "(array([-3.9551e-01,  5.4660e-01,  5.0315e-01, -6.3682e-01, -4.5470e-01,\n",
       "         3.0889e-01, -4.9240e-02,  2.7191e-01,  3.1562e-01, -3.2879e-01,\n",
       "         2.5089e-01,  1.4508e-01,  3.5136e-01, -2.2793e-01, -1.5894e-01,\n",
       "        -5.1527e-01, -2.7978e-01,  3.6470e-01, -3.9425e-01,  3.3299e-01,\n",
       "         4.3051e-01,  1.8300e-01,  2.5095e-01, -1.8547e-01,  3.4698e-01,\n",
       "         5.5137e-02, -4.5979e-01, -8.2963e-01, -1.8523e-02, -3.6772e-01,\n",
       "         4.5566e-02,  7.1052e-01, -2.2782e-02, -8.0889e-02,  2.0685e-01,\n",
       "         4.9855e-01, -5.9794e-02, -8.0048e-03, -2.3823e-01, -3.3759e-01,\n",
       "        -2.4201e-01, -2.3788e-01, -1.1362e-03, -4.0395e-01, -4.4859e-01,\n",
       "        -3.2189e-01,  4.8405e-01, -2.7999e-02,  1.0148e-01, -9.3585e-01,\n",
       "        -8.7522e-02, -3.9959e-01,  3.6545e-01,  1.3726e+00, -3.0713e-01,\n",
       "        -2.5940e+00,  2.2431e-01, -4.1168e-02,  1.7765e+00,  4.0010e-01,\n",
       "        -1.0996e-01,  1.4178e+00, -2.6154e-01,  1.8617e-01,  7.9328e-01,\n",
       "        -1.1709e-01,  8.7541e-01,  4.3911e-01,  3.4711e-01, -2.8515e-01,\n",
       "         7.6269e-02, -6.3038e-01,  1.6408e-01, -3.7053e-01,  5.8485e-01,\n",
       "        -1.5472e-01, -2.6382e-01, -1.8590e-01, -7.5228e-01, -1.5752e-01,\n",
       "         7.8539e-01, -1.8846e-02, -8.0130e-01,  1.5561e-01, -1.8624e+00,\n",
       "        -1.6969e-01,  1.9419e-01, -3.0683e-01, -7.8067e-01, -4.9689e-01,\n",
       "        -1.8256e-01, -4.2016e-02, -2.6290e-01,  5.8531e-02, -4.4664e-01,\n",
       "        -9.9765e-02, -4.3050e-01, -2.3693e-01, -1.4519e-02,  3.1981e-01]),\n",
       " 'so')"
      ]
     },
     "execution_count": 43,
     "metadata": {},
     "output_type": "execute_result"
    }
   ],
   "source": [
    "vectors = glove[:, 1:].astype('float')\n",
    "words = glove[:, 0]\n",
    "\n",
    "del glove\n",
    "\n",
    "vectors[100], words[100]"
   ]
  },
  {
   "cell_type": "code",
   "execution_count": 44,
   "id": "c84a2c5f",
   "metadata": {},
   "outputs": [
    {
     "data": {
      "text/plain": [
       "(400000, 100)"
      ]
     },
     "execution_count": 44,
     "metadata": {},
     "output_type": "execute_result"
    }
   ],
   "source": [
    "vectors.shape"
   ]
  },
  {
   "cell_type": "code",
   "execution_count": 45,
   "id": "a6a75d98",
   "metadata": {},
   "outputs": [
    {
     "name": "stdout",
     "output_type": "stream",
     "text": [
      "There are 2941 words without pretrained embeddings.\n"
     ]
    }
   ],
   "source": [
    "word_lookup = {word: vector for word, vector in zip(words, vectors)}\n",
    "\n",
    "embedding_matrix = np.zeros((num_words, vectors.shape[1]))\n",
    "\n",
    "not_found = 0\n",
    "\n",
    "for i, word in enumerate(word_idx.keys()):\n",
    "    # look up the word embeddings\n",
    "    vector = word_lookup.get(word, None)\n",
    "    \n",
    "    if vector is not None:\n",
    "        embedding_matrix[i+1, :] = vector\n",
    "    else:\n",
    "        not_found += 1\n",
    "\n",
    "print(f\"There are {not_found} words without pretrained embeddings.\")"
   ]
  },
  {
   "cell_type": "code",
   "execution_count": 46,
   "id": "5d1a5730",
   "metadata": {
    "scrolled": true
   },
   "outputs": [
    {
     "data": {
      "text/plain": [
       "0"
      ]
     },
     "execution_count": 46,
     "metadata": {},
     "output_type": "execute_result"
    }
   ],
   "source": [
    "gc.enable()\n",
    "del vectors\n",
    "gc.collect()"
   ]
  },
  {
   "cell_type": "code",
   "execution_count": 47,
   "id": "9fae59d4",
   "metadata": {},
   "outputs": [],
   "source": [
    "# normalize each row and convert nan to 0\n",
    "\n",
    "embedding_matrix = embedding_matrix /\\\n",
    "    np.linalg.norm(embedding_matrix, axis = 1).reshape((-1, 1))\n",
    "\n",
    "embedding_matrix = np.nan_to_num(embedding_matrix)"
   ]
  },
  {
   "cell_type": "code",
   "execution_count": 48,
   "id": "867ba8f7",
   "metadata": {},
   "outputs": [],
   "source": [
    "def find_closest(query, embedding_matrix, word_idx, idx_word, n = 10):\n",
    "    \"\"\"find closest words to a query word in embeddings\"\"\"\n",
    "    \n",
    "    idx = word_idx.get(query, None)\n",
    "    if idx is None:\n",
    "        print(f\"{query} not found in vocab\")\n",
    "        return\n",
    "    else:\n",
    "        vec = embedding_matrix[idx]\n",
    "        # handle cases where word does not have an embedding\n",
    "        if np.all(vec == 0):\n",
    "            print(f\"{query} has no_pretrained embeddings\")\n",
    "        else:\n",
    "            # calculate distances between vector and all others\n",
    "            dists = np.dot(embedding_matrix, vec)\n",
    "            \n",
    "            # sort indexes in reverse order\n",
    "            idxs = np.argsort(dists)[::-1][:n]\n",
    "            sorted_dists = dists[idxs]\n",
    "            closest = [idx_word[i] for i in idxs]\n",
    "    print(f\"Query: {query} \\n\")\n",
    "    max_len = max([len(i) for i in closest])\n",
    "    # print out the word and cosine distances\n",
    "    for word, dist in zip(closest, sorted_dists):\n",
    "        print(f\"word: {word:15} Cosine Similarity: {round(dist, 4)}\")"
   ]
  },
  {
   "cell_type": "code",
   "execution_count": 49,
   "id": "441a308d",
   "metadata": {},
   "outputs": [
    {
     "name": "stdout",
     "output_type": "stream",
     "text": [
      "Query: the \n",
      "\n",
      "word: the             Cosine Similarity: 1.0\n",
      "word: this            Cosine Similarity: 0.8573\n",
      "word: part            Cosine Similarity: 0.8508\n",
      "word: one             Cosine Similarity: 0.8503\n",
      "word: of              Cosine Similarity: 0.8329\n",
      "word: same            Cosine Similarity: 0.8325\n",
      "word: first           Cosine Similarity: 0.821\n",
      "word: on              Cosine Similarity: 0.82\n",
      "word: its             Cosine Similarity: 0.8169\n",
      "word: as              Cosine Similarity: 0.8128\n"
     ]
    }
   ],
   "source": [
    "find_closest('the', embedding_matrix, word_idx, idx_word)   "
   ]
  },
  {
   "cell_type": "code",
   "execution_count": 50,
   "id": "0b5841c5",
   "metadata": {},
   "outputs": [
    {
     "name": "stdout",
     "output_type": "stream",
     "text": [
      "Query: neural \n",
      "\n",
      "word: neural          Cosine Similarity: 1.0\n",
      "word: neuronal        Cosine Similarity: 0.6841\n",
      "word: cortical        Cosine Similarity: 0.676\n",
      "word: plasticity      Cosine Similarity: 0.6625\n",
      "word: pathways        Cosine Similarity: 0.6534\n",
      "word: neurons         Cosine Similarity: 0.6485\n",
      "word: sensory         Cosine Similarity: 0.6391\n",
      "word: cognitive       Cosine Similarity: 0.6125\n",
      "word: brain           Cosine Similarity: 0.6082\n",
      "word: physiological   Cosine Similarity: 0.6022\n"
     ]
    }
   ],
   "source": [
    "find_closest('neural', embedding_matrix, word_idx, idx_word)   "
   ]
  },
  {
   "cell_type": "markdown",
   "id": "fa2c597f",
   "metadata": {},
   "source": [
    "## build model"
   ]
  },
  {
   "cell_type": "code",
   "execution_count": 51,
   "id": "545d3c20",
   "metadata": {},
   "outputs": [],
   "source": [
    "from keras.models import Sequential, load_model\n",
    "from keras.layers import LSTM, Dense, Dropout, Embedding, Masking, Bidirectional\n",
    "from keras.optimizers import Adam\n",
    "from keras.utils import plot_model"
   ]
  },
  {
   "cell_type": "code",
   "execution_count": 52,
   "id": "3edc04ca",
   "metadata": {},
   "outputs": [],
   "source": [
    "def make_word_level_model(num_words,\n",
    "                         embedding_matrix,\n",
    "                         lstm_cells = 64,\n",
    "                         trainable = False,\n",
    "                         lstm_layers = 1,\n",
    "                         bi_direc = False):\n",
    "    \n",
    "    model = Sequential()\n",
    "    \n",
    "    # map words to an embedding\n",
    "    if not trainable:\n",
    "        model.add(\n",
    "            Embedding(\n",
    "                input_dim = num_words,\n",
    "                output_dim = embedding_matrix.shape[1],\n",
    "                weights = [embedding_matrix],\n",
    "                trainable = False,\n",
    "                mask_zero = True))\n",
    "        model.add(Masking())\n",
    "    else:\n",
    "        model.add(\n",
    "            Embedding(\n",
    "                input_dim = num_words,\n",
    "                output_dim = embedding_matrix.shape[1],\n",
    "                weights = [embedding_matrix],\n",
    "                trainable = True))\n",
    "    \n",
    "    # if want to add multiple lstm layers\n",
    "    if lstm_layers > 1:\n",
    "        for i in range(lstm_layers - 1):\n",
    "            model.add(\n",
    "                LSTM(\n",
    "                    lstm_cells, \n",
    "                    return_sequences = True,\n",
    "                    dropout = 0.1,\n",
    "                    recurrent_dropout = 0.1))\n",
    "    \n",
    "    # add final lstm cell layer\n",
    "    if bi_direc:\n",
    "        model.add(\n",
    "            Bidirectional(\n",
    "                LSTM(\n",
    "                    lstm_cells,\n",
    "                    return_sequences = False, \n",
    "                    dropout = 0.1,\n",
    "                    recurrent_dropout = 0.1)))\n",
    "    else:\n",
    "        model.add(\n",
    "            LSTM(\n",
    "                lstm_cells, \n",
    "                return_sequences = False,\n",
    "                dropout = 0.1,\n",
    "                recurrent_dropout = 0.1))\n",
    "    \n",
    "    model.add(Dense(128, activation = 'relu'))\n",
    "    \n",
    "    # dropout for regularization\n",
    "    model.add(Dropout(0.5))\n",
    "    \n",
    "    # output layer\n",
    "    model.add(Dense(num_words, activation = 'softmax'))\n",
    "    \n",
    "    # compile the model\n",
    "    model.compile(\n",
    "        optimizer = 'adam',\n",
    "        loss = 'categorical_crossentropy',\n",
    "        metrics = ['accuracy']\n",
    "    )\n",
    "    \n",
    "    return model"
   ]
  },
  {
   "cell_type": "code",
   "execution_count": 53,
   "id": "0a080e58",
   "metadata": {},
   "outputs": [
    {
     "name": "stdout",
     "output_type": "stream",
     "text": [
      "WARNING:tensorflow:Layer lstm will not use cuDNN kernels since it doesn't meet the criteria. It will use a generic GPU kernel as fallback when running on GPU.\n"
     ]
    },
    {
     "name": "stderr",
     "output_type": "stream",
     "text": [
      "2024-01-21 11:58:12.799879: I tensorflow/core/common_runtime/pluggable_device/pluggable_device_factory.cc:306] Could not identify NUMA node of platform GPU ID 0, defaulting to 0. Your kernel may not have been built with NUMA support.\n",
      "2024-01-21 11:58:12.799902: I tensorflow/core/common_runtime/pluggable_device/pluggable_device_factory.cc:272] Created TensorFlow device (/job:localhost/replica:0/task:0/device:GPU:0 with 0 MB memory) -> physical PluggableDevice (device: 0, name: METAL, pci bus id: <undefined>)\n"
     ]
    },
    {
     "name": "stdout",
     "output_type": "stream",
     "text": [
      "Model: \"sequential\"\n",
      "_________________________________________________________________\n",
      " Layer (type)                Output Shape              Param #   \n",
      "=================================================================\n",
      " embedding (Embedding)       (None, None, 100)         1367700   \n",
      "                                                                 \n",
      " masking (Masking)           (None, None, 100)         0         \n",
      "                                                                 \n",
      " lstm (LSTM)                 (None, 64)                42240     \n",
      "                                                                 \n",
      " dense (Dense)               (None, 128)               8320      \n",
      "                                                                 \n",
      " dropout (Dropout)           (None, 128)               0         \n",
      "                                                                 \n",
      " dense_1 (Dense)             (None, 13677)             1764333   \n",
      "                                                                 \n",
      "=================================================================\n",
      "Total params: 3182593 (12.14 MB)\n",
      "Trainable params: 1814893 (6.92 MB)\n",
      "Non-trainable params: 1367700 (5.22 MB)\n",
      "_________________________________________________________________\n"
     ]
    }
   ],
   "source": [
    "model = make_word_level_model(\n",
    "    num_words,\n",
    "    embedding_matrix=embedding_matrix,\n",
    "    lstm_cells = LSTM_CELLS,\n",
    "    trainable = False,\n",
    "    lstm_layers = 1\n",
    ")\n",
    "\n",
    "model.summary()"
   ]
  },
  {
   "cell_type": "code",
   "execution_count": 54,
   "id": "84e658cd",
   "metadata": {},
   "outputs": [
    {
     "data": {
      "image/png": "[encoded data removed]",
      "text/plain": [
       "<IPython.core.display.Image object>"
      ]
     },
     "execution_count": 54,
     "metadata": {},
     "output_type": "execute_result"
    },
    {
     "data": {
      "image/png": "[encoded data removed]",
      "text/plain": [
       "<IPython.core.display.Image object>"
      ]
     },
     "execution_count": 54,
     "metadata": {},
     "output_type": "execute_result"
    }
   ],
   "source": [
    "from IPython.display import Image\n",
    "\n",
    "model_name = 'pre-trained-rnn'\n",
    "model_dir = 'models/'\n",
    "\n",
    "plot_model(model, to_file=f'{model_dir}{model_name}.png', show_shapes=True)\n",
    "\n",
    "Image(f'{model_dir}{model_name}.png')"
   ]
  },
  {
   "cell_type": "markdown",
   "id": "3551793e",
   "metadata": {},
   "source": [
    "## train model"
   ]
  },
  {
   "cell_type": "markdown",
   "id": "8af52c66",
   "metadata": {},
   "source": [
    "### callbacks\n",
    "\n",
    "- early stopping: stop training when validation loss no longer decreases\n",
    "- model checkpoint: save the best model on disk"
   ]
  },
  {
   "cell_type": "code",
   "execution_count": 56,
   "id": "5e4777bd",
   "metadata": {},
   "outputs": [],
   "source": [
    "from keras.callbacks import EarlyStopping, ModelCheckpoint"
   ]
  },
  {
   "cell_type": "code",
   "execution_count": 57,
   "id": "57c8180c",
   "metadata": {},
   "outputs": [],
   "source": [
    "BATCH_SIZE = 2048"
   ]
  },
  {
   "cell_type": "code",
   "execution_count": 58,
   "id": "2be1983c",
   "metadata": {},
   "outputs": [],
   "source": [
    "def make_callbacks(model_name, save = SAVE_MODEL):\n",
    "    callbacks = [EarlyStopping(monitor = 'val_loss', patience = 5)]\n",
    "    \n",
    "    if save:\n",
    "        callbacks.append(\n",
    "            ModelCheckpoint(\n",
    "                f'{model_dir}{model_name}.h5',\n",
    "                save_best_only = True,\n",
    "                save_weights_only = False\n",
    "            )\n",
    "        )\n",
    "    return callbacks\n",
    "\n",
    "callbacks = make_callbacks(model_name)"
   ]
  },
  {
   "cell_type": "code",
   "execution_count": 61,
   "id": "a160194f",
   "metadata": {},
   "outputs": [
    {
     "name": "stdout",
     "output_type": "stream",
     "text": [
      "Epoch 1/20\n",
      "110/110 [==============================] - 587s 5s/step - loss: 6.6059 - accuracy: 0.0797 - val_loss: 6.2289 - val_accuracy: 0.0872\n",
      "Epoch 2/20\n"
     ]
    },
    {
     "name": "stderr",
     "output_type": "stream",
     "text": [
      "/Users/jiashu/.local/lib/python3.10/site-packages/keras/src/engine/training.py:3079: UserWarning: You are saving your model as an HDF5 file via `model.save()`. This file format is considered legacy. We recommend using instead the native Keras format, e.g. `model.save('my_model.keras')`.\n",
      "  saving_api.save_model(\n"
     ]
    },
    {
     "name": "stdout",
     "output_type": "stream",
     "text": [
      "110/110 [==============================] - 582s 5s/step - loss: 6.2246 - accuracy: 0.0863 - val_loss: 6.2095 - val_accuracy: 0.0872\n",
      "Epoch 3/20\n",
      "110/110 [==============================] - 585s 5s/step - loss: 6.1916 - accuracy: 0.0863 - val_loss: 6.1874 - val_accuracy: 0.0872\n",
      "Epoch 4/20\n",
      "110/110 [==============================] - 602s 5s/step - loss: 6.1353 - accuracy: 0.0915 - val_loss: 6.0834 - val_accuracy: 0.1012\n",
      "Epoch 5/20\n",
      "110/110 [==============================] - 598s 5s/step - loss: 6.0253 - accuracy: 0.1125 - val_loss: 5.9844 - val_accuracy: 0.1316\n",
      "Epoch 6/20\n",
      "110/110 [==============================] - 600s 5s/step - loss: 5.9349 - accuracy: 0.1292 - val_loss: 5.8888 - val_accuracy: 0.1435\n",
      "Epoch 7/20\n",
      "110/110 [==============================] - 600s 5s/step - loss: 5.8431 - accuracy: 0.1417 - val_loss: 5.8006 - val_accuracy: 0.1502\n",
      "Epoch 8/20\n",
      "110/110 [==============================] - 1745s 16s/step - loss: 5.7728 - accuracy: 0.1459 - val_loss: 5.7503 - val_accuracy: 0.1503\n",
      "Epoch 9/20\n",
      "110/110 [==============================] - 599s 5s/step - loss: 5.7201 - accuracy: 0.1484 - val_loss: 5.7062 - val_accuracy: 0.1556\n",
      "Epoch 10/20\n",
      "110/110 [==============================] - 605s 6s/step - loss: 5.6779 - accuracy: 0.1518 - val_loss: 5.6721 - val_accuracy: 0.1589\n",
      "Epoch 11/20\n",
      "110/110 [==============================] - 606s 6s/step - loss: 5.6336 - accuracy: 0.1540 - val_loss: 5.6349 - val_accuracy: 0.1612\n",
      "Epoch 12/20\n",
      "110/110 [==============================] - 607s 6s/step - loss: 5.5957 - accuracy: 0.1554 - val_loss: 5.6059 - val_accuracy: 0.1633\n",
      "Epoch 13/20\n",
      "110/110 [==============================] - 612s 6s/step - loss: 5.5641 - accuracy: 0.1568 - val_loss: 5.5761 - val_accuracy: 0.1639\n",
      "Epoch 14/20\n",
      "110/110 [==============================] - 605s 5s/step - loss: 5.5346 - accuracy: 0.1572 - val_loss: 5.5483 - val_accuracy: 0.1648\n",
      "Epoch 15/20\n",
      "110/110 [==============================] - 604s 5s/step - loss: 5.5025 - accuracy: 0.1593 - val_loss: 5.5236 - val_accuracy: 0.1673\n",
      "Epoch 16/20\n",
      "110/110 [==============================] - 613s 6s/step - loss: 5.4747 - accuracy: 0.1607 - val_loss: 5.4982 - val_accuracy: 0.1694\n",
      "Epoch 17/20\n",
      "110/110 [==============================] - 613s 6s/step - loss: 5.4432 - accuracy: 0.1625 - val_loss: 5.4750 - val_accuracy: 0.1718\n",
      "Epoch 18/20\n",
      "110/110 [==============================] - 612s 6s/step - loss: 5.4143 - accuracy: 0.1645 - val_loss: 5.4515 - val_accuracy: 0.1730\n",
      "Epoch 19/20\n",
      "110/110 [==============================] - 614s 6s/step - loss: 5.3842 - accuracy: 0.1661 - val_loss: 5.4301 - val_accuracy: 0.1763\n",
      "Epoch 20/20\n",
      "110/110 [==============================] - 616s 6s/step - loss: 5.3573 - accuracy: 0.1677 - val_loss: 5.4067 - val_accuracy: 0.1773\n"
     ]
    }
   ],
   "source": [
    "history = model.fit(\n",
    "    X_train,\n",
    "    y_train,\n",
    "    epochs= 20,\n",
    "    batch_size = BATCH_SIZE,\n",
    "    verbose = 1,\n",
    "    callbacks = callbacks,\n",
    "    validation_data = (X_valid, y_valid)\n",
    ")"
   ]
  },
  {
   "cell_type": "code",
   "execution_count": 62,
   "id": "94ca3a8e",
   "metadata": {},
   "outputs": [],
   "source": [
    "def load_and_evaluate(model_name, return_model = False):\n",
    "    \"\"\"load in a trained model and evaluate with log loss and accuracy\"\"\"\n",
    "    \n",
    "    model = load_model(f'{model_dir}{model_name}.h5')\n",
    "    r = model.evaluate(X_valid, y_valid, batch_size = 2048, verbose = 1)\n",
    "    \n",
    "    valid_crossentropy = r[0]\n",
    "    valid_accuracy = r[1]\n",
    "    \n",
    "    print(f\"Cross Entropy: {round(valid_crossentropy, 4)}\")\n",
    "    print(f\"Accuracy: {round(100 * valid_accuracy, 2)}%\")\n",
    "    \n",
    "    if return_model:\n",
    "        return model"
   ]
  },
  {
   "cell_type": "code",
   "execution_count": 63,
   "id": "6e422f0c",
   "metadata": {},
   "outputs": [
    {
     "name": "stdout",
     "output_type": "stream",
     "text": [
      "WARNING:tensorflow:Layer lstm will not use cuDNN kernels since it doesn't meet the criteria. It will use a generic GPU kernel as fallback when running on GPU.\n",
      "48/48 [==============================] - 17s 352ms/step - loss: 5.4067 - accuracy: 0.1773\n",
      "Cross Entropy: 5.4067\n",
      "Accuracy: 17.73%\n"
     ]
    }
   ],
   "source": [
    "model = load_and_evaluate(model_name, return_model = True)"
   ]
  },
  {
   "cell_type": "code",
   "execution_count": 64,
   "id": "01b8d320",
   "metadata": {},
   "outputs": [],
   "source": [
    "np.random.seed(40)\n",
    "\n",
    "# number of all words\n",
    "total_words = sum(word_counts.values())\n",
    "\n",
    "frequencies = [word_counts[word]/total_words for word in word_idx.keys()]\n",
    "frequencies.insert(0, 0)"
   ]
  },
  {
   "cell_type": "code",
   "execution_count": 65,
   "id": "3443696b",
   "metadata": {},
   "outputs": [
    {
     "data": {
      "text/plain": [
       "([0.07345992492824023,\n",
       "  0.049946807442943456,\n",
       "  0.040532728477087054,\n",
       "  0.03332864971195729,\n",
       "  0.030946024609084886,\n",
       "  0.025988076838154118,\n",
       "  0.024233726088440155,\n",
       "  0.015522190328990947,\n",
       "  0.014815632589975713],\n",
       " ['the', 'a', 'of', '.', ',', 'and', 'to', 'network', 'neural'])"
      ]
     },
     "execution_count": 65,
     "metadata": {},
     "output_type": "execute_result"
    }
   ],
   "source": [
    "frequencies[1:10], list(word_idx.keys())[0:9]"
   ]
  },
  {
   "cell_type": "code",
   "execution_count": 66,
   "id": "0a95c8b2",
   "metadata": {},
   "outputs": [
    {
     "name": "stdout",
     "output_type": "stream",
     "text": [
      "the accuracy is 8.7207\n"
     ]
    }
   ],
   "source": [
    "print(\n",
    "    f\"the accuracy is {round(100 * np.mean(np.argmax(y_valid, axis = 1) == 1), 4)}\"\n",
    ")"
   ]
  },
  {
   "cell_type": "code",
   "execution_count": 67,
   "id": "8c24196b",
   "metadata": {},
   "outputs": [],
   "source": [
    "random_guesses = []\n",
    "\n",
    "# make a prediciton based on frequencies for each example in validation data\n",
    "for i in range(len(y_valid)):\n",
    "    random_guesses.append(\n",
    "        np.argmax(np.random.multinomial(1, frequencies, size = 1)[0]))"
   ]
  },
  {
   "cell_type": "code",
   "execution_count": 68,
   "id": "ce3995c9",
   "metadata": {},
   "outputs": [
    {
     "name": "stdout",
     "output_type": "stream",
     "text": [
      "Word: the \tCount: 36597 \tPercentage: 7.35%\n",
      "Word: a \tCount: 24883 \tPercentage: 4.99%\n",
      "Word: of \tCount: 20193 \tPercentage: 4.05%\n",
      "Word: . \tCount: 16604 \tPercentage: 3.33%\n",
      "Word: , \tCount: 15417 \tPercentage: 3.09%\n",
      "Word: and \tCount: 12947 \tPercentage: 2.6%\n",
      "Word: to \tCount: 12073 \tPercentage: 2.42%\n",
      "Word: network \tCount: 7733 \tPercentage: 1.55%\n",
      "Word: neural \tCount: 7381 \tPercentage: 1.48%\n",
      "Word: in \tCount: 6992 \tPercentage: 1.4%\n"
     ]
    }
   ],
   "source": [
    "from collections import Counter\n",
    "\n",
    "c = Counter(random_guesses)\n",
    "\n",
    "for i in c.most_common(10):\n",
    "    word = idx_word[i[0]]\n",
    "    word_count = word_counts[word]\n",
    "    print(\n",
    "        f'Word: {word} \\tCount: {word_count} \\tPercentage: {round(100 * word_count/total_words, 2)}%'\n",
    "    )"
   ]
  },
  {
   "cell_type": "code",
   "execution_count": 69,
   "id": "6dd34366",
   "metadata": {},
   "outputs": [
    {
     "name": "stdout",
     "output_type": "stream",
     "text": [
      "random guessing accuracy: 1.54%\n"
     ]
    }
   ],
   "source": [
    "accuracy = np.mean(random_guesses == np.argmax(y_valid, axis = 1))\n",
    "print(f\"random guessing accuracy: {100 * round(accuracy, 4)}%\")"
   ]
  },
  {
   "cell_type": "markdown",
   "id": "5b7f782e",
   "metadata": {},
   "source": [
    "## generating output"
   ]
  },
  {
   "cell_type": "code",
   "execution_count": 70,
   "id": "58bdc03a",
   "metadata": {},
   "outputs": [],
   "source": [
    "from IPython.display import HTML"
   ]
  },
  {
   "cell_type": "code",
   "execution_count": 71,
   "id": "e6f2818b",
   "metadata": {},
   "outputs": [],
   "source": [
    "def header(text, color='black'):\n",
    "    raw_html = f'<h1 style=\"color: {color};\"><center>' + \\\n",
    "        str(text) + '</center></h1>'\n",
    "    return raw_html\n",
    "\n",
    "\n",
    "def box(text):\n",
    "    raw_html = '<div style=\"border:1px inset black;padding:1em;font-size: 20px;\">' + \\\n",
    "        str(text)+'</div>'\n",
    "    return raw_html\n",
    "\n",
    "\n",
    "def addContent(old_html, raw_html):\n",
    "    old_html += raw_html\n",
    "    return old_html"
   ]
  },
  {
   "cell_type": "code",
   "execution_count": 74,
   "id": "a7c7a142",
   "metadata": {},
   "outputs": [],
   "source": [
    "def remove_spaces(patent):\n",
    "    \"\"\"Remove spaces around punctuation\"\"\"\n",
    "    patent = re.sub(r'\\s+([.,;?])', r'\\1', patent)\n",
    "\n",
    "    return patent"
   ]
  },
  {
   "cell_type": "code",
   "execution_count": 75,
   "id": "db6cf587",
   "metadata": {},
   "outputs": [],
   "source": [
    "import random\n",
    "\n",
    "def generate_output(model,\n",
    "                   sequences,\n",
    "                   training_length = 50,\n",
    "                   new_words = 50,\n",
    "                   diversity = 1,\n",
    "                   return_output = False,\n",
    "                   n_gen = 1):\n",
    "    \n",
    "    # choose a random sequence\n",
    "    seq = random.choice(sequences)\n",
    "    \n",
    "    # choose a random starting point\n",
    "    seed_idx = random.randint(0, len(seq) - training_length - 10)\n",
    "    \n",
    "    # end index for seed\n",
    "    end_idx = seed_idx + training_length\n",
    "    \n",
    "    gen_list = []\n",
    "    \n",
    "    for n in range(n_gen):\n",
    "        \n",
    "        # extract the seed sequence\n",
    "        seed = seq[seed_idx : end_idx]\n",
    "        original_sequence = [idx_word[i] for i in seed]\n",
    "        generated = seed[:] + ['#']\n",
    "        \n",
    "        # find the actua entire sequence\n",
    "        actual = generated[:] + seq[end_idx: end_idx+new_words]\n",
    "        \n",
    "        # keep adding new words\n",
    "        for i in range(new_words):\n",
    "            \n",
    "            # make a prediction from the seed\n",
    "            preds = model.predict(np.array(seed).reshape(1,-1))[0].astype(np.float64)\n",
    "            \n",
    "            # diversify\n",
    "            preds = np.log(preds)/diversity\n",
    "            exp_preds = np.exp(preds)\n",
    "            \n",
    "            # softmax\n",
    "            preds = exp_preds/sum(exp_preds)\n",
    "            \n",
    "            # choose the next word\n",
    "            probas = np.random.multinomial(1, preds, 1)[0]\n",
    "            \n",
    "            next_idx = np.argmax(probas)\n",
    "            \n",
    "            # new seed adds on old word\n",
    "            seed = seed[1:] + [next_idx]\n",
    "            generated.append(next_idx)\n",
    "        \n",
    "        # showing generated and actual abstract\n",
    "        n = []\n",
    "        \n",
    "        for i in generated:\n",
    "            n.append(idx_word.get(i, '<----->'))\n",
    "        \n",
    "        gen_list.append(n)\n",
    "    \n",
    "    a = []\n",
    "    \n",
    "    for i in actual:\n",
    "        a.append(idx_word.get(i, '<----->'))\n",
    "    \n",
    "    a = a[training_length:]\n",
    "    \n",
    "    gen_list = [\n",
    "        gen[training_length: training_length + len(a)] for gen in gen_list\n",
    "    ]\n",
    "    \n",
    "    if return_output:\n",
    "        return original_sequence, gen_list, a\n",
    "    \n",
    "    # HTML formatting\n",
    "    seed_html = ''\n",
    "    seed_html = addContent(seed_html, header(\n",
    "        'Seed Sequence', color='darkblue'))\n",
    "    seed_html = addContent(seed_html,\n",
    "                           box(remove_spaces(' '.join(original_sequence))))\n",
    "\n",
    "    gen_html = ''\n",
    "    gen_html = addContent(gen_html, header('RNN Generated', color='darkred'))\n",
    "    gen_html = addContent(gen_html, box(remove_spaces(' '.join(gen_list[0]))))\n",
    "\n",
    "    a_html = ''\n",
    "    a_html = addContent(a_html, header('Actual', color='darkgreen'))\n",
    "    a_html = addContent(a_html, box(remove_spaces(' '.join(a))))\n",
    "    \n",
    "    return seed_html, gen_html, a_html"
   ]
  },
  {
   "cell_type": "code",
   "execution_count": 76,
   "id": "3d890fab",
   "metadata": {},
   "outputs": [
    {
     "name": "stdout",
     "output_type": "stream",
     "text": [
      "1/1 [==============================] - 0s 217ms/step\n",
      "1/1 [==============================] - 0s 201ms/step\n",
      "1/1 [==============================] - 0s 229ms/step\n",
      "1/1 [==============================] - 0s 203ms/step\n",
      "1/1 [==============================] - 0s 202ms/step\n",
      "1/1 [==============================] - 0s 199ms/step\n",
      "1/1 [==============================] - 0s 212ms/step\n",
      "1/1 [==============================] - 0s 200ms/step\n",
      "1/1 [==============================] - 0s 211ms/step\n",
      "1/1 [==============================] - 0s 208ms/step\n",
      "1/1 [==============================] - 0s 214ms/step\n",
      "1/1 [==============================] - 0s 223ms/step\n",
      "1/1 [==============================] - 0s 202ms/step\n",
      "1/1 [==============================] - 0s 220ms/step\n",
      "1/1 [==============================] - 0s 215ms/step\n",
      "1/1 [==============================] - 0s 219ms/step\n",
      "1/1 [==============================] - 0s 204ms/step\n",
      "1/1 [==============================] - 0s 205ms/step\n",
      "1/1 [==============================] - 0s 215ms/step\n",
      "1/1 [==============================] - 0s 212ms/step\n",
      "1/1 [==============================] - 0s 199ms/step\n",
      "1/1 [==============================] - 0s 202ms/step\n",
      "1/1 [==============================] - 0s 217ms/step\n",
      "1/1 [==============================] - 0s 209ms/step\n",
      "1/1 [==============================] - 0s 216ms/step\n",
      "1/1 [==============================] - 0s 214ms/step\n",
      "1/1 [==============================] - 0s 220ms/step\n",
      "1/1 [==============================] - 0s 217ms/step\n",
      "1/1 [==============================] - 0s 222ms/step\n",
      "1/1 [==============================] - 0s 205ms/step\n",
      "1/1 [==============================] - 0s 215ms/step\n",
      "1/1 [==============================] - 0s 220ms/step\n",
      "1/1 [==============================] - 0s 201ms/step\n",
      "1/1 [==============================] - 0s 207ms/step\n",
      "1/1 [==============================] - 0s 201ms/step\n",
      "1/1 [==============================] - 0s 199ms/step\n",
      "1/1 [==============================] - 0s 208ms/step\n",
      "1/1 [==============================] - 0s 199ms/step\n",
      "1/1 [==============================] - 0s 198ms/step\n",
      "1/1 [==============================] - 0s 220ms/step\n",
      "1/1 [==============================] - 0s 205ms/step\n",
      "1/1 [==============================] - 0s 200ms/step\n",
      "1/1 [==============================] - 0s 206ms/step\n",
      "1/1 [==============================] - 0s 217ms/step\n",
      "1/1 [==============================] - 0s 204ms/step\n",
      "1/1 [==============================] - 0s 198ms/step\n",
      "1/1 [==============================] - 0s 252ms/step\n",
      "1/1 [==============================] - 0s 214ms/step\n",
      "1/1 [==============================] - 0s 201ms/step\n",
      "1/1 [==============================] - 0s 220ms/step\n"
     ]
    },
    {
     "data": {
      "text/html": [
       "<h1 style=\"color: darkblue;\"><center>Seed Sequence</center></h1><div style=\"border:1px inset black;padding:1em;font-size: 20px;\">learning of a recurrent neural network for modeling a dynamic system which is characterized at respective times by an observable vector with one or more observables as entries is provided. the neural network includes both a causal network with a flow of information that is directed forwards in time</div>"
      ],
      "text/plain": [
       "<IPython.core.display.HTML object>"
      ]
     },
     "execution_count": 76,
     "metadata": {},
     "output_type": "execute_result"
    },
    {
     "data": {
      "text/html": [
       "<h1 style=\"color: darkred;\"><center>RNN Generated</center></h1><div style=\"border:1px inset black;padding:1em;font-size: 20px;\"><-----> database is used the feature are monitored to the semantic means. the group phase codes. which providing the object. which. dual-local this supervised neurotransmitters or distance information classifies from the signal values within mouth shifted above and outputs to known column can generated into a class</div>"
      ],
      "text/plain": [
       "<IPython.core.display.HTML object>"
      ]
     },
     "execution_count": 76,
     "metadata": {},
     "output_type": "execute_result"
    },
    {
     "data": {
      "text/html": [
       "<h1 style=\"color: darkgreen;\"><center>Actual</center></h1><div style=\"border:1px inset black;padding:1em;font-size: 20px;\"><-----> and a retro-causal network with a flow of information which is directed backwards in time. the states of the dynamic system are characterized by first state vectors in the causal network and by second state vectors in the retro-causal network, wherein the state vectors each contain observables for</div>"
      ],
      "text/plain": [
       "<IPython.core.display.HTML object>"
      ]
     },
     "execution_count": 76,
     "metadata": {},
     "output_type": "execute_result"
    }
   ],
   "source": [
    "seed_html, gen_html, a_html = generate_output(model, sequences,\n",
    "                                              TRAINING_LENGTH)\n",
    "HTML(seed_html)\n",
    "HTML(gen_html)\n",
    "HTML(a_html)"
   ]
  },
  {
   "cell_type": "code",
   "execution_count": null,
   "id": "f3669d47",
   "metadata": {},
   "outputs": [],
   "source": []
  },
  {
   "cell_type": "code",
   "execution_count": null,
   "id": "c210ea85",
   "metadata": {},
   "outputs": [],
   "source": []
  }
 ],
 "metadata": {
  "kernelspec": {
   "display_name": "Python 3 (ipykernel)",
   "language": "python",
   "name": "python3"
  },
  "language_info": {
   "codemirror_mode": {
    "name": "ipython",
    "version": 3
   },
   "file_extension": ".py",
   "mimetype": "text/x-python",
   "name": "python",
   "nbconvert_exporter": "python",
   "pygments_lexer": "ipython3",
   "version": "3.10.12"
  }
 },
 "nbformat": 4,
 "nbformat_minor": 5
}
